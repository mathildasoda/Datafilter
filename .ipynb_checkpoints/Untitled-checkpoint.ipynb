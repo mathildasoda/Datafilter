{
 "cells": [
  {
   "cell_type": "code",
   "execution_count": 1,
   "metadata": {},
   "outputs": [
    {
     "data": {
      "text/html": [
       "<table class=\"data-frame\"><thead><tr><th></th><th>EP ID</th><th>Home LC</th><th>Home MC</th></tr><tr><th></th><th>String</th><th>String</th><th>String</th></tr></thead><tbody><p>400,396 rows × 12 columns (omitted printing of 9 columns)</p><tr><th>1</th><td>329af26148e8bdf8ab5f939499c68938</td><td>University of California Los Angeles (UCLA)</td><td>United States</td></tr><tr><th>2</th><td>43f31ded64f47e1b26e15e2d9c512ddb</td><td>SIM</td><td>Singapore</td></tr><tr><th>3</th><td>ca99d1ce5f8270c656685094b947b3fd</td><td>TORONTO</td><td>Canada</td></tr><tr><th>4</th><td>8b08ff3e331aaf60f8209247a570badf</td><td>CAMPO GRANDE</td><td>Brazil</td></tr><tr><th>5</th><td>f9728f22fe1c2a32b57ef1531c271189</td><td>Neiva</td><td>Colombia</td></tr><tr><th>6</th><td>1dfa1fff4aa72f93529dab42956da4a8</td><td>BELO HORIZONTE</td><td>Brazil</td></tr><tr><th>7</th><td>3c1cfee347a448915a58faae8d140649</td><td>Benak</td><td>Algeria</td></tr><tr><th>8</th><td>2f081c136d49ba222570eaa5469257f9</td><td>UdeA</td><td>Colombia</td></tr><tr><th>9</th><td>c1b445f0b6fef62bfa3d99520ab194bd</td><td>MC AIESEC Indonesia</td><td>Indonesia</td></tr><tr><th>10</th><td>f737029dd9968748a6aa3bdbd4190e41</td><td>HOUSTON</td><td>United States</td></tr><tr><th>11</th><td>80460a6df45f0f5453209bb3a944fe46</td><td>Buenos Aires USAL</td><td>Argentina</td></tr><tr><th>12</th><td>219d8c18ac91c4f60d9e4e157bae142f</td><td>JAVERIANA</td><td>Colombia</td></tr><tr><th>13</th><td>854a53ed887c46617f5abeb5bd2441e0</td><td>Benak</td><td>Algeria</td></tr><tr><th>14</th><td>bb5493203db52273a4c5b54088775dbb</td><td>Buenos Aires USAL</td><td>Argentina</td></tr><tr><th>15</th><td>937d31d073ca3b5da0555ddce5735b83</td><td>Zacatecas</td><td>Mexico</td></tr><tr><th>16</th><td>d204a43b8a819a4bb071a0f8f058f2fc</td><td>TORONTO</td><td>Canada</td></tr><tr><th>17</th><td>0598c542cd3324280fd0ace772436747</td><td>TORONTO</td><td>Canada</td></tr><tr><th>18</th><td>f8e703a9b0dc050d2e28dff146a2784f</td><td>GLASGOW</td><td>United Kingdom</td></tr><tr><th>19</th><td>7586480457b15144f4ab46a339e5196e</td><td>MIAMI FLORIDA</td><td>United States</td></tr><tr><th>20</th><td>7cb59d99a1a173a384b8ee8e2b85af5c</td><td>YALE</td><td>United States</td></tr><tr><th>21</th><td>fb7a3f8a420d5214037579bacc1aaa98</td><td>Armenia</td><td>Colombia</td></tr><tr><th>22</th><td>28f334ff5268599ac777ad664fac8285</td><td>NUS</td><td>Singapore</td></tr><tr><th>23</th><td>0dbfa146dbd505cea6ead60dfa0b526b</td><td>University of California Los Angeles (UCLA)</td><td>United States</td></tr><tr><th>24</th><td>43f736eba42cdcd7f31690e4a0d31d3b</td><td>UPB</td><td>Colombia</td></tr><tr><th>25</th><td>229f2da28f2fd3a60783cfc1daa3f783</td><td>ANDES</td><td>Colombia</td></tr><tr><th>26</th><td>3bfe03892afb9cde2a761e50f0e560b3</td><td>Pacifico</td><td>Peru</td></tr><tr><th>27</th><td>6b7d2e40d05ea9021e736d1fe18da794</td><td>TORONTO</td><td>Canada</td></tr><tr><th>28</th><td>d4ad6e280c93dcdb3147a7c134273d5d</td><td>Occidente</td><td>Costa Rica</td></tr><tr><th>29</th><td>e97e20a4d2d6efa4f48d09a5d3b0bb3b</td><td>University of Western Australia</td><td>Australia</td></tr><tr><th>30</th><td>7546c716dc01c058d9d1c719f9e5be5b</td><td>PU</td><td>Indonesia</td></tr><tr><th>&vellip;</th><td>&vellip;</td><td>&vellip;</td><td>&vellip;</td></tr></tbody></table>"
      ],
      "text/latex": [
       "\\begin{tabular}{r|cccc}\n",
       "\t& EP ID & Home LC & Home MC & \\\\\n",
       "\t\\hline\n",
       "\t& String & String & String & \\\\\n",
       "\t\\hline\n",
       "\t1 & 329af26148e8bdf8ab5f939499c68938 & University of California Los Angeles (UCLA) & United States & $\\dots$ \\\\\n",
       "\t2 & 43f31ded64f47e1b26e15e2d9c512ddb & SIM & Singapore & $\\dots$ \\\\\n",
       "\t3 & ca99d1ce5f8270c656685094b947b3fd & TORONTO & Canada & $\\dots$ \\\\\n",
       "\t4 & 8b08ff3e331aaf60f8209247a570badf & CAMPO GRANDE & Brazil & $\\dots$ \\\\\n",
       "\t5 & f9728f22fe1c2a32b57ef1531c271189 & Neiva & Colombia & $\\dots$ \\\\\n",
       "\t6 & 1dfa1fff4aa72f93529dab42956da4a8 & BELO HORIZONTE & Brazil & $\\dots$ \\\\\n",
       "\t7 & 3c1cfee347a448915a58faae8d140649 & Benak & Algeria & $\\dots$ \\\\\n",
       "\t8 & 2f081c136d49ba222570eaa5469257f9 & UdeA & Colombia & $\\dots$ \\\\\n",
       "\t9 & c1b445f0b6fef62bfa3d99520ab194bd & MC AIESEC Indonesia & Indonesia & $\\dots$ \\\\\n",
       "\t10 & f737029dd9968748a6aa3bdbd4190e41 & HOUSTON & United States & $\\dots$ \\\\\n",
       "\t11 & 80460a6df45f0f5453209bb3a944fe46 & Buenos Aires USAL & Argentina & $\\dots$ \\\\\n",
       "\t12 & 219d8c18ac91c4f60d9e4e157bae142f & JAVERIANA & Colombia & $\\dots$ \\\\\n",
       "\t13 & 854a53ed887c46617f5abeb5bd2441e0 & Benak & Algeria & $\\dots$ \\\\\n",
       "\t14 & bb5493203db52273a4c5b54088775dbb & Buenos Aires USAL & Argentina & $\\dots$ \\\\\n",
       "\t15 & 937d31d073ca3b5da0555ddce5735b83 & Zacatecas & Mexico & $\\dots$ \\\\\n",
       "\t16 & d204a43b8a819a4bb071a0f8f058f2fc & TORONTO & Canada & $\\dots$ \\\\\n",
       "\t17 & 0598c542cd3324280fd0ace772436747 & TORONTO & Canada & $\\dots$ \\\\\n",
       "\t18 & f8e703a9b0dc050d2e28dff146a2784f & GLASGOW & United Kingdom & $\\dots$ \\\\\n",
       "\t19 & 7586480457b15144f4ab46a339e5196e & MIAMI FLORIDA & United States & $\\dots$ \\\\\n",
       "\t20 & 7cb59d99a1a173a384b8ee8e2b85af5c & YALE & United States & $\\dots$ \\\\\n",
       "\t21 & fb7a3f8a420d5214037579bacc1aaa98 & Armenia & Colombia & $\\dots$ \\\\\n",
       "\t22 & 28f334ff5268599ac777ad664fac8285 & NUS & Singapore & $\\dots$ \\\\\n",
       "\t23 & 0dbfa146dbd505cea6ead60dfa0b526b & University of California Los Angeles (UCLA) & United States & $\\dots$ \\\\\n",
       "\t24 & 43f736eba42cdcd7f31690e4a0d31d3b & UPB & Colombia & $\\dots$ \\\\\n",
       "\t25 & 229f2da28f2fd3a60783cfc1daa3f783 & ANDES & Colombia & $\\dots$ \\\\\n",
       "\t26 & 3bfe03892afb9cde2a761e50f0e560b3 & Pacifico & Peru & $\\dots$ \\\\\n",
       "\t27 & 6b7d2e40d05ea9021e736d1fe18da794 & TORONTO & Canada & $\\dots$ \\\\\n",
       "\t28 & d4ad6e280c93dcdb3147a7c134273d5d & Occidente & Costa Rica & $\\dots$ \\\\\n",
       "\t29 & e97e20a4d2d6efa4f48d09a5d3b0bb3b & University of Western Australia & Australia & $\\dots$ \\\\\n",
       "\t30 & 7546c716dc01c058d9d1c719f9e5be5b & PU & Indonesia & $\\dots$ \\\\\n",
       "\t$\\dots$ & $\\dots$ & $\\dots$ & $\\dots$ &  \\\\\n",
       "\\end{tabular}\n"
      ],
      "text/plain": [
       "400396×12 DataFrames.DataFrame. Omitted printing of 11 columns\n",
       "│ Row    │ EP ID                            │\n",
       "│        │ \u001b[90mString\u001b[39m                           │\n",
       "├────────┼──────────────────────────────────┤\n",
       "│ 1      │ 329af26148e8bdf8ab5f939499c68938 │\n",
       "│ 2      │ 43f31ded64f47e1b26e15e2d9c512ddb │\n",
       "│ 3      │ ca99d1ce5f8270c656685094b947b3fd │\n",
       "│ 4      │ 8b08ff3e331aaf60f8209247a570badf │\n",
       "│ 5      │ f9728f22fe1c2a32b57ef1531c271189 │\n",
       "│ 6      │ 1dfa1fff4aa72f93529dab42956da4a8 │\n",
       "│ 7      │ 3c1cfee347a448915a58faae8d140649 │\n",
       "│ 8      │ 2f081c136d49ba222570eaa5469257f9 │\n",
       "│ 9      │ c1b445f0b6fef62bfa3d99520ab194bd │\n",
       "│ 10     │ f737029dd9968748a6aa3bdbd4190e41 │\n",
       "⋮\n",
       "│ 400386 │ 5e358baec76590c8e3d08821e1c69293 │\n",
       "│ 400387 │ 95433d4f7c6f472c5d22f485c064e0cc │\n",
       "│ 400388 │ 3879a4e5aca1136c6a21c55c9a6b047c │\n",
       "│ 400389 │ 509d76331b29a633a9471cce9af0e9c8 │\n",
       "│ 400390 │ 14e240cbe73e8b9b43d9a0d97c202226 │\n",
       "│ 400391 │ 44a41a14a2398f6f1e464014ca9ee0ab │\n",
       "│ 400392 │ dc7b0e268a86a1dc81cb37dc08b9e663 │\n",
       "│ 400393 │ 1284dec8b91639783aff4d8c1ce7447f │\n",
       "│ 400394 │ f4155d69af3bfe03d7fbf1d33ef58085 │\n",
       "│ 400395 │ a7250abb9bd0c0bf0a302742be86e94d │\n",
       "│ 400396 │ 371130a93abbbf6c5655bbf8d551326d │"
      ]
     },
     "execution_count": 1,
     "metadata": {},
     "output_type": "execute_result"
    }
   ],
   "source": [
    "using CSV\n",
    "background=CSV.read(\"People_Backgrounds_2020_04_03.csv\")\n",
    "skill=CSV.read(\"People_Skills_2020_04_03.csv\")\n",
    "\n"
   ]
  },
  {
   "cell_type": "code",
   "execution_count": 3,
   "metadata": {},
   "outputs": [
    {
     "data": {
      "text/plain": [
       "9-element Array{String,1}:\n",
       " \"EP ID\"      \n",
       " \"Status\"     \n",
       " \"Background\" \n",
       " \"Gender\"     \n",
       " \"Age\"        \n",
       " \"Signed Up\"  \n",
       " \"Home LC\"    \n",
       " \"Home MC\"    \n",
       " \"Home Region\""
      ]
     },
     "execution_count": 3,
     "metadata": {},
     "output_type": "execute_result"
    }
   ],
   "source": [
    "names(background)"
   ]
  },
  {
   "cell_type": "code",
   "execution_count": 4,
   "metadata": {},
   "outputs": [
    {
     "data": {
      "text/plain": [
       "83174-element CSV.Column{String,String}:\n",
       " \"000619cc73c5728e1a49948c18c423c6\"\n",
       " \"000619cc73c5728e1a49948c18c423c6\"\n",
       " \"00ec8f38ff587c88d1ae1f079548a04b\"\n",
       " \"00ec8f38ff587c88d1ae1f079548a04b\"\n",
       " \"0157f9bd328f764d59e108e6b09b3207\"\n",
       " \"0157f9bd328f764d59e108e6b09b3207\"\n",
       " \"0157f9bd328f764d59e108e6b09b3207\"\n",
       " \"015833bdccf8df71cd0ea61b624d78e6\"\n",
       " \"0318c0fa472a56707e0791803ec63a06\"\n",
       " \"03b8321d9af9b1df402d0dc74bade116\"\n",
       " \"063d78a246bce0e281f8589c323368f1\"\n",
       " \"063d78a246bce0e281f8589c323368f1\"\n",
       " \"063d78a246bce0e281f8589c323368f1\"\n",
       " ⋮                                 \n",
       " \"79185ee745547328da127fc983a8e00c\"\n",
       " \"95433d4f7c6f472c5d22f485c064e0cc\"\n",
       " \"a1cc0a60f9048125f0f2cac871d7ee8f\"\n",
       " \"a2db317043e94698cf5d171a05fbf222\"\n",
       " \"ce9bb686f79a4f456fb775e1bf00a518\"\n",
       " \"db813cd01939781ea6388c0bb80ee08f\"\n",
       " \"db813cd01939781ea6388c0bb80ee08f\"\n",
       " \"e76a07d652173e9e4117ce66dedf3ade\"\n",
       " \"e9733bfa6df1f0dec9bc084f46167933\"\n",
       " \"e9cc43b796e992454aedc1fd99264e55\"\n",
       " \"fee47f584884a61c8cebb0dc623aa704\"\n",
       " \"ff23106f2149e58aab96cd5b8d29b4ed\""
      ]
     },
     "execution_count": 4,
     "metadata": {},
     "output_type": "execute_result"
    }
   ],
   "source": [
    "background.\"EP ID\""
   ]
  },
  {
   "cell_type": "markdown",
   "metadata": {},
   "source": [
    "row by row:"
   ]
  },
  {
   "cell_type": "code",
   "execution_count": 7,
   "metadata": {},
   "outputs": [
    {
     "data": {
      "text/plain": [
       "9-element Array{String,1}:\n",
       " \"EP ID\"      \n",
       " \"Status\"     \n",
       " \"Background\" \n",
       " \"Gender\"     \n",
       " \"Age\"        \n",
       " \"Signed Up\"  \n",
       " \"Home LC\"    \n",
       " \"Home MC\"    \n",
       " \"Home Region\""
      ]
     },
     "execution_count": 7,
     "metadata": {},
     "output_type": "execute_result"
    }
   ],
   "source": [
    "names(background)"
   ]
  },
  {
   "cell_type": "code",
   "execution_count": 8,
   "metadata": {},
   "outputs": [
    {
     "data": {
      "text/plain": [
       "12-element Array{String,1}:\n",
       " \"EP ID\"                    \n",
       " \"Home LC\"                  \n",
       " \"Home MC\"                  \n",
       " \"Home Region\"              \n",
       " \"Interest in GV\"           \n",
       " \"Interest in GT\"           \n",
       " \"Interest in GE\"           \n",
       " \"Active Member\"            \n",
       " \"Role\"                     \n",
       " \"Date first position start\"\n",
       " \"Date last position end\"   \n",
       " \"Languages\"                "
      ]
     },
     "execution_count": 8,
     "metadata": {},
     "output_type": "execute_result"
    }
   ],
   "source": [
    "names(skill)"
   ]
  },
  {
   "cell_type": "code",
   "execution_count": 9,
   "metadata": {},
   "outputs": [
    {
     "data": {
      "text/plain": [
       "17-element Array{String,1}:\n",
       " \"EP ID\"                    \n",
       " \"Status\"                   \n",
       " \"Background\"               \n",
       " \"Gender\"                   \n",
       " \"Age\"                      \n",
       " \"Signed Up\"                \n",
       " \"Home LC\"                  \n",
       " \"Home MC\"                  \n",
       " \"Home Region\"              \n",
       " \"Interest in GV\"           \n",
       " \"Interest in GT\"           \n",
       " \"Interest in GE\"           \n",
       " \"Active Member\"            \n",
       " \"Role\"                     \n",
       " \"Date first position start\"\n",
       " \"Date last position end\"   \n",
       " \"Languages\"                "
      ]
     },
     "execution_count": 9,
     "metadata": {},
     "output_type": "execute_result"
    }
   ],
   "source": [
    "union(names(background),names(skill))"
   ]
  },
  {
   "cell_type": "code",
   "execution_count": 15,
   "metadata": {
    "scrolled": true
   },
   "outputs": [
    {
     "name": "stdout",
     "output_type": "stream",
     "text": [
      "\u001b[32m\u001b[1m  Updating\u001b[22m\u001b[39m registry at `~/.julia/registries/General`\n",
      "\u001b[32m\u001b[1m  Updating\u001b[22m\u001b[39m git-repo `https://github.com/JuliaRegistries/General.git`\n",
      "\u001b[2K\u001b[?25h[1mFetching:\u001b[22m\u001b[39m [========================================>]  100.0 %.0 %"
     ]
    },
    {
     "ename": "Pkg.Types.PkgError",
     "evalue": "The following package names could not be resolved:\n * DataFrame (not found in project, manifest or registry)\nPlease specify by known `name=uuid`.",
     "output_type": "error",
     "traceback": [
      "The following package names could not be resolved:\n * DataFrame (not found in project, manifest or registry)\nPlease specify by known `name=uuid`.",
      "",
      "Stacktrace:",
      " [1] pkgerror(::String) at /buildworker/worker/package_linux32/build/usr/share/julia/stdlib/v1.0/Pkg/src/Types.jl:120",
      " [2] #ensure_resolved#43(::Bool, ::Function, ::Pkg.Types.EnvCache, ::Array{Pkg.Types.PackageSpec,1}) at /buildworker/worker/package_linux32/build/usr/share/julia/stdlib/v1.0/Pkg/src/Types.jl:900",
      " [3] #ensure_resolved at ./none:0 [inlined]",
      " [4] #add_or_develop#15(::Symbol, ::Bool, ::Base.Iterators.Pairs{Union{},Union{},Tuple{},NamedTuple{(),Tuple{}}}, ::Function, ::Pkg.Types.Context, ::Array{Pkg.Types.PackageSpec,1}) at /buildworker/worker/package_linux32/build/usr/share/julia/stdlib/v1.0/Pkg/src/API.jl:64",
      " [5] #add_or_develop at ./none:0 [inlined]",
      " [6] #add_or_develop#14 at /buildworker/worker/package_linux32/build/usr/share/julia/stdlib/v1.0/Pkg/src/API.jl:34 [inlined]",
      " [7] #add_or_develop at ./none:0 [inlined]",
      " [8] #add_or_develop#11 at /buildworker/worker/package_linux32/build/usr/share/julia/stdlib/v1.0/Pkg/src/API.jl:33 [inlined]",
      " [9] #add_or_develop at ./none:0 [inlined]",
      " [10] #add_or_develop#10 at /buildworker/worker/package_linux32/build/usr/share/julia/stdlib/v1.0/Pkg/src/API.jl:32 [inlined]",
      " [11] #add_or_develop at ./none:0 [inlined]",
      " [12] #add#20 at /buildworker/worker/package_linux32/build/usr/share/julia/stdlib/v1.0/Pkg/src/API.jl:74 [inlined]",
      " [13] add(::String) at /buildworker/worker/package_linux32/build/usr/share/julia/stdlib/v1.0/Pkg/src/API.jl:74",
      " [14] top-level scope at In[15]:1"
     ]
    }
   ],
   "source": [
    "import Pkg; Pkg.add(\"DataFrame\")"
   ]
  },
  {
   "cell_type": "code",
   "execution_count": null,
   "metadata": {},
   "outputs": [],
   "source": []
  },
  {
   "cell_type": "code",
   "execution_count": 19,
   "metadata": {},
   "outputs": [
    {
     "data": {
      "text/html": [
       "<table class=\"data-frame\"><thead><tr><th></th><th>names</th><th>Age</th><th>Male</th><th>Eye</th></tr><tr><th></th><th>String</th><th>Int32</th><th>Bool</th><th>String</th></tr></thead><tbody><p>4 rows × 4 columns</p><tr><th>1</th><td>James</td><td>15</td><td>true</td><td>blue</td></tr><tr><th>2</th><td>Ellen</td><td>22</td><td>false</td><td>brown</td></tr><tr><th>3</th><td>Chad</td><td>19</td><td>true</td><td>blue</td></tr><tr><th>4</th><td>Lily</td><td>27</td><td>false</td><td>green</td></tr></tbody></table>"
      ],
      "text/latex": [
       "\\begin{tabular}{r|cccc}\n",
       "\t& names & Age & Male & Eye\\\\\n",
       "\t\\hline\n",
       "\t& String & Int32 & Bool & String\\\\\n",
       "\t\\hline\n",
       "\t1 & James & 15 & true & blue \\\\\n",
       "\t2 & Ellen & 22 & false & brown \\\\\n",
       "\t3 & Chad & 19 & true & blue \\\\\n",
       "\t4 & Lily & 27 & false & green \\\\\n",
       "\\end{tabular}\n"
      ],
      "text/plain": [
       "4×4 DataFrame\n",
       "│ Row │ names  │ Age   │ Male  │ Eye    │\n",
       "│     │ \u001b[90mString\u001b[39m │ \u001b[90mInt32\u001b[39m │ \u001b[90mBool\u001b[39m  │ \u001b[90mString\u001b[39m │\n",
       "├─────┼────────┼───────┼───────┼────────┤\n",
       "│ 1   │ James  │ 15    │ true  │ blue   │\n",
       "│ 2   │ Ellen  │ 22    │ false │ brown  │\n",
       "│ 3   │ Chad   │ 19    │ true  │ blue   │\n",
       "│ 4   │ Lily   │ 27    │ false │ green  │"
      ]
     },
     "execution_count": 19,
     "metadata": {},
     "output_type": "execute_result"
    }
   ],
   "source": [
    "#mock data:\n",
    "using DataFrames\n",
    "one=DataFrame(names=[\"James\",\"Lily\",\"Ellen\"],Age=[15,27,22],Male=[true,false,false])\n",
    "two=DataFrame(names=[\"James\",\"Ellen\",\"Chad\",\"Lily\"],Age=[15,22,19,27],Male=[true,false,true,false],Eye=[\"blue\",\"brown\",\"blue\",\"green\"])"
   ]
  },
  {
   "cell_type": "code",
   "execution_count": 20,
   "metadata": {},
   "outputs": [
    {
     "data": {
      "text/plain": [
       "4-element Array{String,1}:\n",
       " \"names\"\n",
       " \"Age\"  \n",
       " \"Male\" \n",
       " \"Eye\"  "
      ]
     },
     "execution_count": 20,
     "metadata": {},
     "output_type": "execute_result"
    }
   ],
   "source": [
    "name=union(names(one),names(two))"
   ]
  },
  {
   "cell_type": "code",
   "execution_count": 23,
   "metadata": {},
   "outputs": [
    {
     "data": {
      "text/html": [
       "<p>DataFrameRow (3 columns)</p><table class=\"data-frame\"><thead><tr><th></th><th>names</th><th>Age</th><th>Male</th></tr><tr><th></th><th>String</th><th>Int32</th><th>Bool</th></tr></thead><tbody><tr><th>1</th><td>James</td><td>15</td><td>true</td></tr></tbody></table>"
      ],
      "text/latex": [
       "\\begin{tabular}{r|ccc}\n",
       "\t& names & Age & Male\\\\\n",
       "\t\\hline\n",
       "\t& String & Int32 & Bool\\\\\n",
       "\t\\hline\n",
       "\t1 & James & 15 & true \\\\\n",
       "\\end{tabular}\n"
      ],
      "text/plain": [
       "DataFrameRow\n",
       "│ Row │ names  │ Age   │ Male │\n",
       "│     │ \u001b[90mString\u001b[39m │ \u001b[90mInt32\u001b[39m │ \u001b[90mBool\u001b[39m │\n",
       "├─────┼────────┼───────┼──────┤\n",
       "│ 1   │ James  │ 15    │ true │"
      ]
     },
     "execution_count": 23,
     "metadata": {},
     "output_type": "execute_result"
    }
   ],
   "source": [
    "#making Jame's row\n",
    "#get 1st person in one's row:\n",
    "one[1,:]\n"
   ]
  },
  {
   "cell_type": "code",
   "execution_count": 38,
   "metadata": {},
   "outputs": [
    {
     "ename": "ErrorException",
     "evalue": "type DataType has no field innerjoin",
     "output_type": "error",
     "traceback": [
      "type DataType has no field innerjoin",
      "",
      "Stacktrace:",
      " [1] getproperty(::Type, ::Symbol) at ./sysimg.jl:15",
      " [2] top-level scope at In[38]:1"
     ]
    }
   ],
   "source": [
    "#get first person's name and find first person's credentials in two's row:\n",
    "\n",
    "DataFrame.innerjoin(one, two; on = :name, unique=true)"
   ]
  },
  {
   "cell_type": "code",
   "execution_count": 39,
   "metadata": {},
   "outputs": [
    {
     "data": {
      "text/html": [
       "<table class=\"data-frame\"><thead><tr><th></th><th>ID</th><th>Name</th></tr><tr><th></th><th>Int32</th><th>String</th></tr></thead><tbody><p>3 rows × 2 columns</p><tr><th>1</th><td>1</td><td>John Doe</td></tr><tr><th>2</th><td>2</td><td>Jane Doe</td></tr><tr><th>3</th><td>3</td><td>Joe Blogs</td></tr></tbody></table>"
      ],
      "text/latex": [
       "\\begin{tabular}{r|cc}\n",
       "\t& ID & Name\\\\\n",
       "\t\\hline\n",
       "\t& Int32 & String\\\\\n",
       "\t\\hline\n",
       "\t1 & 1 & John Doe \\\\\n",
       "\t2 & 2 & Jane Doe \\\\\n",
       "\t3 & 3 & Joe Blogs \\\\\n",
       "\\end{tabular}\n"
      ],
      "text/plain": [
       "3×2 DataFrame\n",
       "│ Row │ ID    │ Name      │\n",
       "│     │ \u001b[90mInt32\u001b[39m │ \u001b[90mString\u001b[39m    │\n",
       "├─────┼───────┼───────────┤\n",
       "│ 1   │ 1     │ John Doe  │\n",
       "│ 2   │ 2     │ Jane Doe  │\n",
       "│ 3   │ 3     │ Joe Blogs │"
      ]
     },
     "execution_count": 39,
     "metadata": {},
     "output_type": "execute_result"
    }
   ],
   "source": [
    "name = DataFrame(ID = [1, 2, 3], Name = [\"John Doe\", \"Jane Doe\", \"Joe Blogs\"])"
   ]
  },
  {
   "cell_type": "code",
   "execution_count": 40,
   "metadata": {},
   "outputs": [
    {
     "data": {
      "text/html": [
       "<table class=\"data-frame\"><thead><tr><th></th><th>ID</th><th>Job</th></tr><tr><th></th><th>Int32</th><th>String</th></tr></thead><tbody><p>3 rows × 2 columns</p><tr><th>1</th><td>1</td><td>Lawyer</td></tr><tr><th>2</th><td>2</td><td>Doctor</td></tr><tr><th>3</th><td>4</td><td>Farmer</td></tr></tbody></table>"
      ],
      "text/latex": [
       "\\begin{tabular}{r|cc}\n",
       "\t& ID & Job\\\\\n",
       "\t\\hline\n",
       "\t& Int32 & String\\\\\n",
       "\t\\hline\n",
       "\t1 & 1 & Lawyer \\\\\n",
       "\t2 & 2 & Doctor \\\\\n",
       "\t3 & 4 & Farmer \\\\\n",
       "\\end{tabular}\n"
      ],
      "text/plain": [
       "3×2 DataFrame\n",
       "│ Row │ ID    │ Job    │\n",
       "│     │ \u001b[90mInt32\u001b[39m │ \u001b[90mString\u001b[39m │\n",
       "├─────┼───────┼────────┤\n",
       "│ 1   │ 1     │ Lawyer │\n",
       "│ 2   │ 2     │ Doctor │\n",
       "│ 3   │ 4     │ Farmer │"
      ]
     },
     "execution_count": 40,
     "metadata": {},
     "output_type": "execute_result"
    }
   ],
   "source": [
    "job = DataFrame(ID = [1, 2, 4], Job = [\"Lawyer\", \"Doctor\", \"Farmer\"])"
   ]
  },
  {
   "cell_type": "code",
   "execution_count": 41,
   "metadata": {},
   "outputs": [
    {
     "data": {
      "text/html": [
       "<table class=\"data-frame\"><thead><tr><th></th><th>ID</th><th>Name</th><th>Job</th></tr><tr><th></th><th>Int32</th><th>String</th><th>String</th></tr></thead><tbody><p>2 rows × 3 columns</p><tr><th>1</th><td>1</td><td>John Doe</td><td>Lawyer</td></tr><tr><th>2</th><td>2</td><td>Jane Doe</td><td>Doctor</td></tr></tbody></table>"
      ],
      "text/latex": [
       "\\begin{tabular}{r|ccc}\n",
       "\t& ID & Name & Job\\\\\n",
       "\t\\hline\n",
       "\t& Int32 & String & String\\\\\n",
       "\t\\hline\n",
       "\t1 & 1 & John Doe & Lawyer \\\\\n",
       "\t2 & 2 & Jane Doe & Doctor \\\\\n",
       "\\end{tabular}\n"
      ],
      "text/plain": [
       "2×3 DataFrame\n",
       "│ Row │ ID    │ Name     │ Job    │\n",
       "│     │ \u001b[90mInt32\u001b[39m │ \u001b[90mString\u001b[39m   │ \u001b[90mString\u001b[39m │\n",
       "├─────┼───────┼──────────┼────────┤\n",
       "│ 1   │ 1     │ John Doe │ Lawyer │\n",
       "│ 2   │ 2     │ Jane Doe │ Doctor │"
      ]
     },
     "execution_count": 41,
     "metadata": {},
     "output_type": "execute_result"
    }
   ],
   "source": [
    "innerjoin(name, job, on = :ID)"
   ]
  },
  {
   "cell_type": "code",
   "execution_count": 42,
   "metadata": {},
   "outputs": [
    {
     "data": {
      "text/html": [
       "<table class=\"data-frame\"><thead><tr><th></th><th>names</th><th>Age</th><th>Male</th></tr><tr><th></th><th>String</th><th>Int32</th><th>Bool</th></tr></thead><tbody><p>3 rows × 3 columns</p><tr><th>1</th><td>James</td><td>15</td><td>true</td></tr><tr><th>2</th><td>Lily</td><td>27</td><td>false</td></tr><tr><th>3</th><td>Ellen</td><td>22</td><td>false</td></tr></tbody></table>"
      ],
      "text/latex": [
       "\\begin{tabular}{r|ccc}\n",
       "\t& names & Age & Male\\\\\n",
       "\t\\hline\n",
       "\t& String & Int32 & Bool\\\\\n",
       "\t\\hline\n",
       "\t1 & James & 15 & true \\\\\n",
       "\t2 & Lily & 27 & false \\\\\n",
       "\t3 & Ellen & 22 & false \\\\\n",
       "\\end{tabular}\n"
      ],
      "text/plain": [
       "3×3 DataFrame\n",
       "│ Row │ names  │ Age   │ Male  │\n",
       "│     │ \u001b[90mString\u001b[39m │ \u001b[90mInt32\u001b[39m │ \u001b[90mBool\u001b[39m  │\n",
       "├─────┼────────┼───────┼───────┤\n",
       "│ 1   │ James  │ 15    │ true  │\n",
       "│ 2   │ Lily   │ 27    │ false │\n",
       "│ 3   │ Ellen  │ 22    │ false │"
      ]
     },
     "execution_count": 42,
     "metadata": {},
     "output_type": "execute_result"
    }
   ],
   "source": [
    "one"
   ]
  },
  {
   "cell_type": "code",
   "execution_count": 43,
   "metadata": {},
   "outputs": [
    {
     "data": {
      "text/html": [
       "<table class=\"data-frame\"><thead><tr><th></th><th>names</th><th>Age</th><th>Male</th><th>Eye</th></tr><tr><th></th><th>String</th><th>Int32</th><th>Bool</th><th>String</th></tr></thead><tbody><p>4 rows × 4 columns</p><tr><th>1</th><td>James</td><td>15</td><td>true</td><td>blue</td></tr><tr><th>2</th><td>Ellen</td><td>22</td><td>false</td><td>brown</td></tr><tr><th>3</th><td>Chad</td><td>19</td><td>true</td><td>blue</td></tr><tr><th>4</th><td>Lily</td><td>27</td><td>false</td><td>green</td></tr></tbody></table>"
      ],
      "text/latex": [
       "\\begin{tabular}{r|cccc}\n",
       "\t& names & Age & Male & Eye\\\\\n",
       "\t\\hline\n",
       "\t& String & Int32 & Bool & String\\\\\n",
       "\t\\hline\n",
       "\t1 & James & 15 & true & blue \\\\\n",
       "\t2 & Ellen & 22 & false & brown \\\\\n",
       "\t3 & Chad & 19 & true & blue \\\\\n",
       "\t4 & Lily & 27 & false & green \\\\\n",
       "\\end{tabular}\n"
      ],
      "text/plain": [
       "4×4 DataFrame\n",
       "│ Row │ names  │ Age   │ Male  │ Eye    │\n",
       "│     │ \u001b[90mString\u001b[39m │ \u001b[90mInt32\u001b[39m │ \u001b[90mBool\u001b[39m  │ \u001b[90mString\u001b[39m │\n",
       "├─────┼────────┼───────┼───────┼────────┤\n",
       "│ 1   │ James  │ 15    │ true  │ blue   │\n",
       "│ 2   │ Ellen  │ 22    │ false │ brown  │\n",
       "│ 3   │ Chad   │ 19    │ true  │ blue   │\n",
       "│ 4   │ Lily   │ 27    │ false │ green  │"
      ]
     },
     "execution_count": 43,
     "metadata": {},
     "output_type": "execute_result"
    }
   ],
   "source": [
    "two"
   ]
  },
  {
   "cell_type": "code",
   "execution_count": 51,
   "metadata": {},
   "outputs": [
    {
     "data": {
      "text/html": [
       "<table class=\"data-frame\"><thead><tr><th></th><th>names</th><th>Age</th><th>Male</th><th>Eye</th><th>Age_1</th><th>Male_1</th></tr><tr><th></th><th>String</th><th>Int32</th><th>Bool</th><th>String</th><th>Int32</th><th>Bool</th></tr></thead><tbody><p>3 rows × 6 columns</p><tr><th>1</th><td>James</td><td>15</td><td>true</td><td>blue</td><td>15</td><td>true</td></tr><tr><th>2</th><td>Ellen</td><td>22</td><td>false</td><td>brown</td><td>22</td><td>false</td></tr><tr><th>3</th><td>Lily</td><td>27</td><td>false</td><td>green</td><td>27</td><td>false</td></tr></tbody></table>"
      ],
      "text/latex": [
       "\\begin{tabular}{r|cccccc}\n",
       "\t& names & Age & Male & Eye & Age\\_1 & Male\\_1\\\\\n",
       "\t\\hline\n",
       "\t& String & Int32 & Bool & String & Int32 & Bool\\\\\n",
       "\t\\hline\n",
       "\t1 & James & 15 & true & blue & 15 & true \\\\\n",
       "\t2 & Ellen & 22 & false & brown & 22 & false \\\\\n",
       "\t3 & Lily & 27 & false & green & 27 & false \\\\\n",
       "\\end{tabular}\n"
      ],
      "text/plain": [
       "3×6 DataFrame\n",
       "│ Row │ names  │ Age   │ Male  │ Eye    │ Age_1 │ Male_1 │\n",
       "│     │ \u001b[90mString\u001b[39m │ \u001b[90mInt32\u001b[39m │ \u001b[90mBool\u001b[39m  │ \u001b[90mString\u001b[39m │ \u001b[90mInt32\u001b[39m │ \u001b[90mBool\u001b[39m   │\n",
       "├─────┼────────┼───────┼───────┼────────┼───────┼────────┤\n",
       "│ 1   │ James  │ 15    │ true  │ blue   │ 15    │ true   │\n",
       "│ 2   │ Ellen  │ 22    │ false │ brown  │ 22    │ false  │\n",
       "│ 3   │ Lily   │ 27    │ false │ green  │ 27    │ false  │"
      ]
     },
     "execution_count": 51,
     "metadata": {},
     "output_type": "execute_result"
    }
   ],
   "source": [
    "innerjoin(two,one,on=:names,makeunique=true)"
   ]
  },
  {
   "cell_type": "markdown",
   "metadata": {},
   "source": [
    "# this is it my dude"
   ]
  },
  {
   "cell_type": "code",
   "execution_count": 62,
   "metadata": {},
   "outputs": [
    {
     "data": {
      "text/html": [
       "<table class=\"data-frame\"><thead><tr><th></th><th>names</th><th>Age</th><th>Male</th><th>Eye</th></tr><tr><th></th><th>String</th><th>Int32</th><th>Bool</th><th>String?</th></tr></thead><tbody><p>4 rows × 4 columns</p><tr><th>1</th><td>James</td><td>15</td><td>true</td><td>blue</td></tr><tr><th>2</th><td>Lily</td><td>27</td><td>false</td><td>green</td></tr><tr><th>3</th><td>Ellen</td><td>22</td><td>false</td><td>brown</td></tr><tr><th>4</th><td>Chad</td><td>19</td><td>true</td><td>blue</td></tr></tbody></table>"
      ],
      "text/latex": [
       "\\begin{tabular}{r|cccc}\n",
       "\t& names & Age & Male & Eye\\\\\n",
       "\t\\hline\n",
       "\t& String & Int32 & Bool & String?\\\\\n",
       "\t\\hline\n",
       "\t1 & James & 15 & true & blue \\\\\n",
       "\t2 & Lily & 27 & false & green \\\\\n",
       "\t3 & Ellen & 22 & false & brown \\\\\n",
       "\t4 & Chad & 19 & true & blue \\\\\n",
       "\\end{tabular}\n"
      ],
      "text/plain": [
       "4×4 DataFrame\n",
       "│ Row │ names  │ Age   │ Male  │ Eye     │\n",
       "│     │ \u001b[90mString\u001b[39m │ \u001b[90mInt32\u001b[39m │ \u001b[90mBool\u001b[39m  │ \u001b[90mString?\u001b[39m │\n",
       "├─────┼────────┼───────┼───────┼─────────┤\n",
       "│ 1   │ James  │ 15    │ true  │ blue    │\n",
       "│ 2   │ Lily   │ 27    │ false │ green   │\n",
       "│ 3   │ Ellen  │ 22    │ false │ brown   │\n",
       "│ 4   │ Chad   │ 19    │ true  │ blue    │"
      ]
     },
     "execution_count": 62,
     "metadata": {},
     "output_type": "execute_result"
    }
   ],
   "source": [
    "outerjoin(one,two,on=[:names,:Male,:Age],makeunique=true)"
   ]
  },
  {
   "cell_type": "code",
   "execution_count": 60,
   "metadata": {},
   "outputs": [
    {
     "data": {
      "text/html": [
       "<table class=\"data-frame\"><thead><tr><th></th><th>names</th><th>Age</th><th>Male</th><th>Eye</th><th>Age_1</th><th>Male_1</th></tr><tr><th></th><th>String</th><th>Int32</th><th>Bool</th><th>String</th><th>Int32?</th><th>Bool?</th></tr></thead><tbody><p>4 rows × 6 columns</p><tr><th>1</th><td>James</td><td>15</td><td>true</td><td>blue</td><td>15</td><td>true</td></tr><tr><th>2</th><td>Ellen</td><td>22</td><td>false</td><td>brown</td><td>22</td><td>false</td></tr><tr><th>3</th><td>Chad</td><td>19</td><td>true</td><td>blue</td><td><em>missing</em></td><td><em>missing</em></td></tr><tr><th>4</th><td>Lily</td><td>27</td><td>false</td><td>green</td><td>27</td><td>false</td></tr></tbody></table>"
      ],
      "text/latex": [
       "\\begin{tabular}{r|cccccc}\n",
       "\t& names & Age & Male & Eye & Age\\_1 & Male\\_1\\\\\n",
       "\t\\hline\n",
       "\t& String & Int32 & Bool & String & Int32? & Bool?\\\\\n",
       "\t\\hline\n",
       "\t1 & James & 15 & true & blue & 15 & true \\\\\n",
       "\t2 & Ellen & 22 & false & brown & 22 & false \\\\\n",
       "\t3 & Chad & 19 & true & blue & \\emph{missing} & \\emph{missing} \\\\\n",
       "\t4 & Lily & 27 & false & green & 27 & false \\\\\n",
       "\\end{tabular}\n"
      ],
      "text/plain": [
       "4×6 DataFrame\n",
       "│ Row │ names  │ Age   │ Male  │ Eye    │ Age_1   │ Male_1  │\n",
       "│     │ \u001b[90mString\u001b[39m │ \u001b[90mInt32\u001b[39m │ \u001b[90mBool\u001b[39m  │ \u001b[90mString\u001b[39m │ \u001b[90mInt32?\u001b[39m  │ \u001b[90mBool?\u001b[39m   │\n",
       "├─────┼────────┼───────┼───────┼────────┼─────────┼─────────┤\n",
       "│ 1   │ James  │ 15    │ true  │ blue   │ 15      │ true    │\n",
       "│ 2   │ Ellen  │ 22    │ false │ brown  │ 22      │ false   │\n",
       "│ 3   │ Chad   │ 19    │ true  │ blue   │ \u001b[90mmissing\u001b[39m │ \u001b[90mmissing\u001b[39m │\n",
       "│ 4   │ Lily   │ 27    │ false │ green  │ 27      │ false   │"
      ]
     },
     "execution_count": 60,
     "metadata": {},
     "output_type": "execute_result"
    }
   ],
   "source": [
    "leftjoin(two,one,on=:names,makeunique=true) #includes all rows on first var"
   ]
  },
  {
   "cell_type": "code",
   "execution_count": 61,
   "metadata": {},
   "outputs": [
    {
     "data": {
      "text/html": [
       "<table class=\"data-frame\"><thead><tr><th></th><th>names</th><th>Age</th><th>Male</th><th>Eye</th><th>Age_1</th><th>Male_1</th></tr><tr><th></th><th>String?</th><th>Int32?</th><th>Bool?</th><th>String?</th><th>Int32</th><th>Bool</th></tr></thead><tbody><p>3 rows × 6 columns</p><tr><th>1</th><td>James</td><td>15</td><td>true</td><td>blue</td><td>15</td><td>true</td></tr><tr><th>2</th><td>Lily</td><td>27</td><td>false</td><td>green</td><td>27</td><td>false</td></tr><tr><th>3</th><td>Ellen</td><td>22</td><td>false</td><td>brown</td><td>22</td><td>false</td></tr></tbody></table>"
      ],
      "text/latex": [
       "\\begin{tabular}{r|cccccc}\n",
       "\t& names & Age & Male & Eye & Age\\_1 & Male\\_1\\\\\n",
       "\t\\hline\n",
       "\t& String? & Int32? & Bool? & String? & Int32 & Bool\\\\\n",
       "\t\\hline\n",
       "\t1 & James & 15 & true & blue & 15 & true \\\\\n",
       "\t2 & Lily & 27 & false & green & 27 & false \\\\\n",
       "\t3 & Ellen & 22 & false & brown & 22 & false \\\\\n",
       "\\end{tabular}\n"
      ],
      "text/plain": [
       "3×6 DataFrame\n",
       "│ Row │ names   │ Age    │ Male  │ Eye     │ Age_1 │ Male_1 │\n",
       "│     │ \u001b[90mString?\u001b[39m │ \u001b[90mInt32?\u001b[39m │ \u001b[90mBool?\u001b[39m │ \u001b[90mString?\u001b[39m │ \u001b[90mInt32\u001b[39m │ \u001b[90mBool\u001b[39m   │\n",
       "├─────┼─────────┼────────┼───────┼─────────┼───────┼────────┤\n",
       "│ 1   │ James   │ 15     │ true  │ blue    │ 15    │ true   │\n",
       "│ 2   │ Lily    │ 27     │ false │ green   │ 27    │ false  │\n",
       "│ 3   │ Ellen   │ 22     │ false │ brown   │ 22    │ false  │"
      ]
     },
     "execution_count": 61,
     "metadata": {},
     "output_type": "execute_result"
    }
   ],
   "source": [
    "rightjoin(two,one,on=:names,makeunique=true) #includes all rows on second var"
   ]
  },
  {
   "cell_type": "code",
   "execution_count": 63,
   "metadata": {},
   "outputs": [
    {
     "data": {
      "text/html": [
       "<table class=\"data-frame\"><thead><tr><th></th><th>names</th><th>Age</th><th>Male</th><th>Eye</th></tr><tr><th></th><th>String</th><th>Int32</th><th>Bool</th><th>String</th></tr></thead><tbody><p>3 rows × 4 columns</p><tr><th>1</th><td>James</td><td>15</td><td>true</td><td>blue</td></tr><tr><th>2</th><td>Ellen</td><td>22</td><td>false</td><td>brown</td></tr><tr><th>3</th><td>Lily</td><td>27</td><td>false</td><td>green</td></tr></tbody></table>"
      ],
      "text/latex": [
       "\\begin{tabular}{r|cccc}\n",
       "\t& names & Age & Male & Eye\\\\\n",
       "\t\\hline\n",
       "\t& String & Int32 & Bool & String\\\\\n",
       "\t\\hline\n",
       "\t1 & James & 15 & true & blue \\\\\n",
       "\t2 & Ellen & 22 & false & brown \\\\\n",
       "\t3 & Lily & 27 & false & green \\\\\n",
       "\\end{tabular}\n"
      ],
      "text/plain": [
       "3×4 DataFrame\n",
       "│ Row │ names  │ Age   │ Male  │ Eye    │\n",
       "│     │ \u001b[90mString\u001b[39m │ \u001b[90mInt32\u001b[39m │ \u001b[90mBool\u001b[39m  │ \u001b[90mString\u001b[39m │\n",
       "├─────┼────────┼───────┼───────┼────────┤\n",
       "│ 1   │ James  │ 15    │ true  │ blue   │\n",
       "│ 2   │ Ellen  │ 22    │ false │ brown  │\n",
       "│ 3   │ Lily   │ 27    │ false │ green  │"
      ]
     },
     "execution_count": 63,
     "metadata": {},
     "output_type": "execute_result"
    }
   ],
   "source": [
    "semijoin(two,one,on=:names,makeunique=true) #subset of df1 that match with keys in df2"
   ]
  },
  {
   "cell_type": "code",
   "execution_count": 64,
   "metadata": {},
   "outputs": [
    {
     "data": {
      "text/html": [
       "<table class=\"data-frame\"><thead><tr><th></th><th>names</th><th>Age</th><th>Male</th><th>Eye</th></tr><tr><th></th><th>String</th><th>Int32</th><th>Bool</th><th>String</th></tr></thead><tbody><p>1 rows × 4 columns</p><tr><th>1</th><td>Chad</td><td>19</td><td>true</td><td>blue</td></tr></tbody></table>"
      ],
      "text/latex": [
       "\\begin{tabular}{r|cccc}\n",
       "\t& names & Age & Male & Eye\\\\\n",
       "\t\\hline\n",
       "\t& String & Int32 & Bool & String\\\\\n",
       "\t\\hline\n",
       "\t1 & Chad & 19 & true & blue \\\\\n",
       "\\end{tabular}\n"
      ],
      "text/plain": [
       "1×4 DataFrame\n",
       "│ Row │ names  │ Age   │ Male │ Eye    │\n",
       "│     │ \u001b[90mString\u001b[39m │ \u001b[90mInt32\u001b[39m │ \u001b[90mBool\u001b[39m │ \u001b[90mString\u001b[39m │\n",
       "├─────┼────────┼───────┼──────┼────────┤\n",
       "│ 1   │ Chad   │ 19    │ true │ blue   │"
      ]
     },
     "execution_count": 64,
     "metadata": {},
     "output_type": "execute_result"
    }
   ],
   "source": [
    "antijoin(two,one,on=:names,makeunique=true) #subset of rows of df1 that do not match with the keys in df1"
   ]
  },
  {
   "cell_type": "code",
   "execution_count": 67,
   "metadata": {},
   "outputs": [
    {
     "data": {
      "text/html": [
       "<table class=\"data-frame\"><thead><tr><th></th><th>X</th><th>Y</th></tr><tr><th></th><th>Int32</th><th>String</th></tr></thead><tbody><p>6 rows × 2 columns</p><tr><th>1</th><td>1</td><td>a</td></tr><tr><th>2</th><td>1</td><td>b</td></tr><tr><th>3</th><td>2</td><td>a</td></tr><tr><th>4</th><td>2</td><td>b</td></tr><tr><th>5</th><td>3</td><td>a</td></tr><tr><th>6</th><td>3</td><td>b</td></tr></tbody></table>"
      ],
      "text/latex": [
       "\\begin{tabular}{r|cc}\n",
       "\t& X & Y\\\\\n",
       "\t\\hline\n",
       "\t& Int32 & String\\\\\n",
       "\t\\hline\n",
       "\t1 & 1 & a \\\\\n",
       "\t2 & 1 & b \\\\\n",
       "\t3 & 2 & a \\\\\n",
       "\t4 & 2 & b \\\\\n",
       "\t5 & 3 & a \\\\\n",
       "\t6 & 3 & b \\\\\n",
       "\\end{tabular}\n"
      ],
      "text/plain": [
       "6×2 DataFrame\n",
       "│ Row │ X     │ Y      │\n",
       "│     │ \u001b[90mInt32\u001b[39m │ \u001b[90mString\u001b[39m │\n",
       "├─────┼───────┼────────┤\n",
       "│ 1   │ 1     │ a      │\n",
       "│ 2   │ 1     │ b      │\n",
       "│ 3   │ 2     │ a      │\n",
       "│ 4   │ 2     │ b      │\n",
       "│ 5   │ 3     │ a      │\n",
       "│ 6   │ 3     │ b      │"
      ]
     },
     "execution_count": 67,
     "metadata": {},
     "output_type": "execute_result"
    }
   ],
   "source": [
    "df1 = DataFrame(X=1:3)\n",
    "df2 = DataFrame(Y=[\"a\", \"b\"])\n",
    "crossjoin(df1,df2) #cartesian product of rows from all passed data frames"
   ]
  },
  {
   "cell_type": "code",
   "execution_count": 68,
   "metadata": {},
   "outputs": [
    {
     "data": {
      "text/plain": [
       "9-element Array{String,1}:\n",
       " \"EP ID\"      \n",
       " \"Status\"     \n",
       " \"Background\" \n",
       " \"Gender\"     \n",
       " \"Age\"        \n",
       " \"Signed Up\"  \n",
       " \"Home LC\"    \n",
       " \"Home MC\"    \n",
       " \"Home Region\""
      ]
     },
     "execution_count": 68,
     "metadata": {},
     "output_type": "execute_result"
    }
   ],
   "source": [
    "names(background)"
   ]
  },
  {
   "cell_type": "code",
   "execution_count": 69,
   "metadata": {},
   "outputs": [
    {
     "data": {
      "text/plain": [
       "12-element Array{String,1}:\n",
       " \"EP ID\"                    \n",
       " \"Home LC\"                  \n",
       " \"Home MC\"                  \n",
       " \"Home Region\"              \n",
       " \"Interest in GV\"           \n",
       " \"Interest in GT\"           \n",
       " \"Interest in GE\"           \n",
       " \"Active Member\"            \n",
       " \"Role\"                     \n",
       " \"Date first position start\"\n",
       " \"Date last position end\"   \n",
       " \"Languages\"                "
      ]
     },
     "execution_count": 69,
     "metadata": {},
     "output_type": "execute_result"
    }
   ],
   "source": [
    "names(skill)"
   ]
  },
  {
   "cell_type": "code",
   "execution_count": 71,
   "metadata": {},
   "outputs": [
    {
     "data": {
      "text/plain": [
       "1-element Array{Array{String,1},1}:\n",
       " [\"EP ID\", \"Status\", \"Background\", \"Gender\", \"Age\", \"Signed Up\", \"Home LC\", \"Home MC\", \"Home Region\", \"Interest in GV\", \"Interest in GT\", \"Interest in GE\", \"Active Member\", \"Role\", \"Date first position start\", \"Date last position end\", \"Languages\"]"
      ]
     },
     "execution_count": 71,
     "metadata": {},
     "output_type": "execute_result"
    }
   ],
   "source": [
    "#array with :samevalues\n",
    "arrname=[union(names(background),names(skill))]"
   ]
  },
  {
   "cell_type": "code",
   "execution_count": 91,
   "metadata": {},
   "outputs": [
    {
     "data": {
      "text/plain": [
       "Array{Array{String,1},1}"
      ]
     },
     "execution_count": 91,
     "metadata": {},
     "output_type": "execute_result"
    }
   ],
   "source": [
    "#outerjoin(one,two,on=[:names,:Male,:Age],makeunique=true)\n",
    "typeof(arrname)"
   ]
  },
  {
   "cell_type": "code",
   "execution_count": 93,
   "metadata": {},
   "outputs": [
    {
     "name": "stdout",
     "output_type": "stream",
     "text": [
      ":EP ID\n",
      ":Status\n",
      ":Background\n",
      ":Gender\n",
      ":Age\n",
      ":Signed Up\n",
      ":Home LC\n",
      ":Home MC\n",
      ":Home Region\n",
      ":Interest in GV\n",
      ":Interest in GT\n",
      ":Interest in GE\n",
      ":Active Member\n",
      ":Role\n",
      ":Date first position start\n",
      ":Date last position end\n",
      ":Languages\n"
     ]
    }
   ],
   "source": [
    "for i in arrname[1]\n",
    "    println(\":\"*i)\n",
    "end"
   ]
  },
  {
   "cell_type": "code",
   "execution_count": 94,
   "metadata": {},
   "outputs": [
    {
     "data": {
      "text/plain": [
       "17-element Array{String,1}:\n",
       " \":EP ID\"                    \n",
       " \":Status\"                   \n",
       " \":Background\"               \n",
       " \":Gender\"                   \n",
       " \":Age\"                      \n",
       " \":Signed Up\"                \n",
       " \":Home LC\"                  \n",
       " \":Home MC\"                  \n",
       " \":Home Region\"              \n",
       " \":Interest in GV\"           \n",
       " \":Interest in GT\"           \n",
       " \":Interest in GE\"           \n",
       " \":Active Member\"            \n",
       " \":Role\"                     \n",
       " \":Date first position start\"\n",
       " \":Date last position end\"   \n",
       " \":Languages\"                "
      ]
     },
     "execution_count": 94,
     "metadata": {},
     "output_type": "execute_result"
    }
   ],
   "source": [
    "#OFFICIAL ARRAY WITH SAME VAL:\n",
    "arr=[\":\"*i for i in arrname[1]]"
   ]
  },
  {
   "cell_type": "code",
   "execution_count": 96,
   "metadata": {},
   "outputs": [
    {
     "ename": "ArgumentError",
     "evalue": "ArgumentError: column name :Interest in GV not found in the data frame",
     "output_type": "error",
     "traceback": [
      "ArgumentError: column name :Interest in GV not found in the data frame",
      "",
      "Stacktrace:",
      " [1] lookupname at /home/mathilda/.julia/packages/DataFrames/3ZmR2/src/other/index.jl:286 [inlined]",
      " [2] getindex at /home/mathilda/.julia/packages/DataFrames/3ZmR2/src/other/index.jl:295 [inlined]",
      " [3] (::getfield(DataFrames, Symbol(\"##29#30\")){DataFrames.Index})(::Symbol) at ./none:0",
      " [4] iterate at ./generator.jl:47 [inlined]",
      " [5] collect_to! at ./array.jl:656 [inlined]",
      " [6] collect_to_with_first!(::Array{Int32,1}, ::Int32, ::Base.Generator{Array{Symbol,1},getfield(DataFrames, Symbol(\"##29#30\")){DataFrames.Index}}, ::Int32) at ./array.jl:643",
      " [7] collect(::Base.Generator{Array{Symbol,1},getfield(DataFrames, Symbol(\"##29#30\")){DataFrames.Index}}) at ./array.jl:624",
      " [8] getindex at /home/mathilda/.julia/packages/DataFrames/3ZmR2/src/other/index.jl:301 [inlined]",
      " [9] #manipulate#303(::Bool, ::Bool, ::Function, ::DataFrame, ::Array{Symbol,1}) at /home/mathilda/.julia/packages/DataFrames/3ZmR2/src/abstractdataframe/selection.jl:547",
      " [10] #manipulate at ./array.jl:0 [inlined]",
      " [11] #select#300 at /home/mathilda/.julia/packages/DataFrames/3ZmR2/src/abstractdataframe/selection.jl:491 [inlined]",
      " [12] #select at ./none:0 [inlined]",
      " [13] getindex at /home/mathilda/.julia/packages/DataFrames/3ZmR2/src/dataframe/dataframe.jl:473 [inlined]",
      " [14] DataFrames.DataFrameJoiner{DataFrame,DataFrame}(::DataFrame, ::DataFrame, ::Array{String,1}) at /home/mathilda/.julia/packages/DataFrames/3ZmR2/src/abstractdataframe/join.jl:46",
      " [15] Type at /home/mathilda/.julia/packages/DataFrames/3ZmR2/src/abstractdataframe/join.jl:51 [inlined]",
      " [16] #_join#327(::Array{String,1}, ::Symbol, ::Bool, ::Nothing, ::Tuple{Bool,Bool}, ::Function, ::DataFrame, ::DataFrame) at /home/mathilda/.julia/packages/DataFrames/3ZmR2/src/abstractdataframe/join.jl:265",
      " [17] #_join at ./none:0 [inlined]",
      " [18] #outerjoin#340 at /home/mathilda/.julia/packages/DataFrames/3ZmR2/src/abstractdataframe/join.jl:790 [inlined]",
      " [19] (::getfield(DataFrames, Symbol(\"#kw##outerjoin\")))(::NamedTuple{(:on, :makeunique),Tuple{Array{String,1},Bool}}, ::typeof(outerjoin), ::DataFrame, ::DataFrame) at ./none:0",
      " [20] top-level scope at In[96]:1"
     ]
    }
   ],
   "source": [
    "outerjoin(background,skill,on=arrname[1],makeunique=true)\n",
    "#okay so I guess this approach is wrong '-' "
   ]
  },
  {
   "cell_type": "code",
   "execution_count": 97,
   "metadata": {},
   "outputs": [
    {
     "data": {
      "text/html": [
       "<p>DataFrameRow (9 columns)</p><table class=\"data-frame\"><thead><tr><th></th><th>EP ID</th><th>Status</th><th>Background</th></tr><tr><th></th><th>String</th><th>String</th><th>String</th></tr></thead><tbody><tr><th>1</th><td>000619cc73c5728e1a49948c18c423c6</td><td>open</td><td>Computer sciences | Mathematics | Physics | Software development and programming | Systems and Computing Engineering | Telecommunication Engineering</td></tr></tbody></table>"
      ],
      "text/latex": [
       "\\begin{tabular}{r|cccc}\n",
       "\t& EP ID & Status & Background & \\\\\n",
       "\t\\hline\n",
       "\t& String & String & String & \\\\\n",
       "\t\\hline\n",
       "\t1 & 000619cc73c5728e1a49948c18c423c6 & open & Computer sciences | Mathematics | Physics | Software development and programming | Systems and Computing Engineering | Telecommunication Engineering & $\\dots$ \\\\\n",
       "\\end{tabular}\n"
      ],
      "text/plain": [
       "DataFrameRow. Omitted printing of 7 columns\n",
       "│ Row │ EP ID                            │ Status │\n",
       "│     │ \u001b[90mString\u001b[39m                           │ \u001b[90mString\u001b[39m │\n",
       "├─────┼──────────────────────────────────┼────────┤\n",
       "│ 1   │ 000619cc73c5728e1a49948c18c423c6 │ open   │"
      ]
     },
     "execution_count": 97,
     "metadata": {},
     "output_type": "execute_result"
    }
   ],
   "source": [
    "background[1,:]"
   ]
  },
  {
   "cell_type": "code",
   "execution_count": null,
   "metadata": {},
   "outputs": [],
   "source": []
  },
  {
   "cell_type": "code",
   "execution_count": 102,
   "metadata": {},
   "outputs": [],
   "source": [
    "# join with the one with shorter cols\n",
    "if names(background)<names(skill)\n",
    "    println(\"Yeh\")\n",
    "end"
   ]
  },
  {
   "cell_type": "code",
   "execution_count": 114,
   "metadata": {},
   "outputs": [
    {
     "ename": "ArgumentError",
     "evalue": "ArgumentError: column name :Interest in GV not found in the data frame",
     "output_type": "error",
     "traceback": [
      "ArgumentError: column name :Interest in GV not found in the data frame",
      "",
      "Stacktrace:",
      " [1] lookupname at /home/mathilda/.julia/packages/DataFrames/3ZmR2/src/other/index.jl:286 [inlined]",
      " [2] getindex at /home/mathilda/.julia/packages/DataFrames/3ZmR2/src/other/index.jl:295 [inlined]",
      " [3] (::getfield(DataFrames, Symbol(\"##29#30\")){DataFrames.Index})(::Symbol) at ./none:0",
      " [4] iterate at ./generator.jl:47 [inlined]",
      " [5] collect_to! at ./array.jl:656 [inlined]",
      " [6] collect_to_with_first!(::Array{Int32,1}, ::Int32, ::Base.Generator{Array{Symbol,1},getfield(DataFrames, Symbol(\"##29#30\")){DataFrames.Index}}, ::Int32) at ./array.jl:643",
      " [7] collect(::Base.Generator{Array{Symbol,1},getfield(DataFrames, Symbol(\"##29#30\")){DataFrames.Index}}) at ./array.jl:624",
      " [8] getindex at /home/mathilda/.julia/packages/DataFrames/3ZmR2/src/other/index.jl:301 [inlined]",
      " [9] #manipulate#303(::Bool, ::Bool, ::Function, ::DataFrame, ::Array{Symbol,1}) at /home/mathilda/.julia/packages/DataFrames/3ZmR2/src/abstractdataframe/selection.jl:547",
      " [10] #manipulate at ./array.jl:0 [inlined]",
      " [11] #select#300 at /home/mathilda/.julia/packages/DataFrames/3ZmR2/src/abstractdataframe/selection.jl:491 [inlined]",
      " [12] #select at ./none:0 [inlined]",
      " [13] getindex at /home/mathilda/.julia/packages/DataFrames/3ZmR2/src/dataframe/dataframe.jl:473 [inlined]",
      " [14] DataFrames.DataFrameJoiner{DataFrame,DataFrame}(::DataFrame, ::DataFrame, ::Array{String,1}) at /home/mathilda/.julia/packages/DataFrames/3ZmR2/src/abstractdataframe/join.jl:46",
      " [15] Type at /home/mathilda/.julia/packages/DataFrames/3ZmR2/src/abstractdataframe/join.jl:51 [inlined]",
      " [16] #_join#327(::Array{String,1}, ::Symbol, ::Bool, ::Nothing, ::Tuple{Bool,Bool}, ::Function, ::DataFrame, ::DataFrame) at /home/mathilda/.julia/packages/DataFrames/3ZmR2/src/abstractdataframe/join.jl:265",
      " [17] #_join at ./none:0 [inlined]",
      " [18] #outerjoin#340 at /home/mathilda/.julia/packages/DataFrames/3ZmR2/src/abstractdataframe/join.jl:790 [inlined]",
      " [19] (::getfield(DataFrames, Symbol(\"#kw##outerjoin\")))(::NamedTuple{(:on, :makeunique),Tuple{Array{String,1},Bool}}, ::typeof(outerjoin), ::DataFrame, ::DataFrame) at ./none:0",
      " [20] top-level scope at In[114]:1"
     ]
    }
   ],
   "source": [
    "outerjoin(background,skill,on=union(names(background),names(skill)),makeunique=true)"
   ]
  },
  {
   "cell_type": "code",
   "execution_count": 106,
   "metadata": {},
   "outputs": [
    {
     "data": {
      "text/html": [
       "<table class=\"data-frame\"><thead><tr><th></th><th>EP ID</th><th>Status</th><th>Background</th></tr><tr><th></th><th>String</th><th>String</th><th>String</th></tr></thead><tbody><p>83,174 rows × 9 columns (omitted printing of 6 columns)</p><tr><th>1</th><td>000619cc73c5728e1a49948c18c423c6</td><td>open</td><td>Computer sciences | Mathematics | Physics | Software development and programming | Systems and Computing Engineering | Telecommunication Engineering</td></tr><tr><th>2</th><td>000619cc73c5728e1a49948c18c423c6</td><td>rejected</td><td>Computer sciences | Mathematics | Physics | Software development and programming | Systems and Computing Engineering | Telecommunication Engineering</td></tr><tr><th>3</th><td>00ec8f38ff587c88d1ae1f079548a04b</td><td>complete</td><td>Economics</td></tr><tr><th>4</th><td>00ec8f38ff587c88d1ae1f079548a04b</td><td>rejected</td><td>Economics</td></tr><tr><th>5</th><td>0157f9bd328f764d59e108e6b09b3207</td><td>open</td><td>Sports</td></tr><tr><th>6</th><td>0157f9bd328f764d59e108e6b09b3207</td><td>rejected</td><td>Sports</td></tr><tr><th>7</th><td>0157f9bd328f764d59e108e6b09b3207</td><td>withdrawn</td><td>Sports</td></tr><tr><th>8</th><td>015833bdccf8df71cd0ea61b624d78e6</td><td>open</td><td>Civil engineering | Languages | Mechanical engineering</td></tr><tr><th>9</th><td>0318c0fa472a56707e0791803ec63a06</td><td>realized</td><td>Psychology</td></tr><tr><th>10</th><td>03b8321d9af9b1df402d0dc74bade116</td><td>open</td><td>International relations | Marketing</td></tr><tr><th>11</th><td>063d78a246bce0e281f8589c323368f1</td><td>open</td><td>Business administration | Economics</td></tr><tr><th>12</th><td>063d78a246bce0e281f8589c323368f1</td><td>rejected</td><td>Business administration | Economics</td></tr><tr><th>13</th><td>063d78a246bce0e281f8589c323368f1</td><td>withdrawn</td><td>Business administration | Economics</td></tr><tr><th>14</th><td>06edfef364b18139898f24e6d29d5206</td><td>open</td><td>International relations</td></tr><tr><th>15</th><td>0cc8508d94b71ec724ec807cc195f760</td><td>open</td><td>Marketing</td></tr><tr><th>16</th><td>0cc8508d94b71ec724ec807cc195f760</td><td>rejected</td><td>Marketing</td></tr><tr><th>17</th><td>0dcae249d06154814a4e6c2b3dbef3e7</td><td>rejected</td><td>Economics</td></tr><tr><th>18</th><td>0f1b1bb57b5cfe2fad72fe7f1eca9244</td><td>open</td><td>Business administration | Civil engineering | Finance</td></tr><tr><th>19</th><td>0f1b1bb57b5cfe2fad72fe7f1eca9244</td><td>rejected</td><td>Business administration | Civil engineering | Finance</td></tr><tr><th>20</th><td>0fe7d02ec36bc2ec8183d7aeb140aa88</td><td>rejected</td><td>Marketing</td></tr><tr><th>21</th><td>0ffa28c038c9b3442831d4a768a67f71</td><td>realized</td><td>Biology | Psychology</td></tr><tr><th>22</th><td>0ffa28c038c9b3442831d4a768a67f71</td><td>withdrawn</td><td>Biology | Psychology</td></tr><tr><th>23</th><td>11a179ae0fec26a7fd19c4aa527fcd01</td><td>open</td><td>Finance</td></tr><tr><th>24</th><td>1497669c80bea3004f25107136d946ec</td><td>approved</td><td>Civil engineering</td></tr><tr><th>25</th><td>163aea0d551ba6a3387fc4be087b020e</td><td>open</td><td>Electrical engineering | Industrial engineering</td></tr><tr><th>26</th><td>163aea0d551ba6a3387fc4be087b020e</td><td>rejected</td><td>Electrical engineering | Industrial engineering</td></tr><tr><th>27</th><td>184a02643a5e3b15995a38717b9b0470</td><td>realized</td><td>Biomedical Science</td></tr><tr><th>28</th><td>18b8545d4501106cc4911a173a2bbfe9</td><td>rejected</td><td>Public administration</td></tr><tr><th>29</th><td>1d342fcb20dffc9643f7bcfdf6486fc2</td><td>open</td><td>Statistics</td></tr><tr><th>30</th><td>1d342fcb20dffc9643f7bcfdf6486fc2</td><td>rejected</td><td>Statistics</td></tr><tr><th>&vellip;</th><td>&vellip;</td><td>&vellip;</td><td>&vellip;</td></tr></tbody></table>"
      ],
      "text/latex": [
       "\\begin{tabular}{r|cccc}\n",
       "\t& EP ID & Status & Background & \\\\\n",
       "\t\\hline\n",
       "\t& String & String & String & \\\\\n",
       "\t\\hline\n",
       "\t1 & 000619cc73c5728e1a49948c18c423c6 & open & Computer sciences | Mathematics | Physics | Software development and programming | Systems and Computing Engineering | Telecommunication Engineering & $\\dots$ \\\\\n",
       "\t2 & 000619cc73c5728e1a49948c18c423c6 & rejected & Computer sciences | Mathematics | Physics | Software development and programming | Systems and Computing Engineering | Telecommunication Engineering & $\\dots$ \\\\\n",
       "\t3 & 00ec8f38ff587c88d1ae1f079548a04b & complete & Economics & $\\dots$ \\\\\n",
       "\t4 & 00ec8f38ff587c88d1ae1f079548a04b & rejected & Economics & $\\dots$ \\\\\n",
       "\t5 & 0157f9bd328f764d59e108e6b09b3207 & open & Sports & $\\dots$ \\\\\n",
       "\t6 & 0157f9bd328f764d59e108e6b09b3207 & rejected & Sports & $\\dots$ \\\\\n",
       "\t7 & 0157f9bd328f764d59e108e6b09b3207 & withdrawn & Sports & $\\dots$ \\\\\n",
       "\t8 & 015833bdccf8df71cd0ea61b624d78e6 & open & Civil engineering | Languages | Mechanical engineering & $\\dots$ \\\\\n",
       "\t9 & 0318c0fa472a56707e0791803ec63a06 & realized & Psychology & $\\dots$ \\\\\n",
       "\t10 & 03b8321d9af9b1df402d0dc74bade116 & open & International relations | Marketing & $\\dots$ \\\\\n",
       "\t11 & 063d78a246bce0e281f8589c323368f1 & open & Business administration | Economics & $\\dots$ \\\\\n",
       "\t12 & 063d78a246bce0e281f8589c323368f1 & rejected & Business administration | Economics & $\\dots$ \\\\\n",
       "\t13 & 063d78a246bce0e281f8589c323368f1 & withdrawn & Business administration | Economics & $\\dots$ \\\\\n",
       "\t14 & 06edfef364b18139898f24e6d29d5206 & open & International relations & $\\dots$ \\\\\n",
       "\t15 & 0cc8508d94b71ec724ec807cc195f760 & open & Marketing & $\\dots$ \\\\\n",
       "\t16 & 0cc8508d94b71ec724ec807cc195f760 & rejected & Marketing & $\\dots$ \\\\\n",
       "\t17 & 0dcae249d06154814a4e6c2b3dbef3e7 & rejected & Economics & $\\dots$ \\\\\n",
       "\t18 & 0f1b1bb57b5cfe2fad72fe7f1eca9244 & open & Business administration | Civil engineering | Finance & $\\dots$ \\\\\n",
       "\t19 & 0f1b1bb57b5cfe2fad72fe7f1eca9244 & rejected & Business administration | Civil engineering | Finance & $\\dots$ \\\\\n",
       "\t20 & 0fe7d02ec36bc2ec8183d7aeb140aa88 & rejected & Marketing & $\\dots$ \\\\\n",
       "\t21 & 0ffa28c038c9b3442831d4a768a67f71 & realized & Biology | Psychology & $\\dots$ \\\\\n",
       "\t22 & 0ffa28c038c9b3442831d4a768a67f71 & withdrawn & Biology | Psychology & $\\dots$ \\\\\n",
       "\t23 & 11a179ae0fec26a7fd19c4aa527fcd01 & open & Finance & $\\dots$ \\\\\n",
       "\t24 & 1497669c80bea3004f25107136d946ec & approved & Civil engineering & $\\dots$ \\\\\n",
       "\t25 & 163aea0d551ba6a3387fc4be087b020e & open & Electrical engineering | Industrial engineering & $\\dots$ \\\\\n",
       "\t26 & 163aea0d551ba6a3387fc4be087b020e & rejected & Electrical engineering | Industrial engineering & $\\dots$ \\\\\n",
       "\t27 & 184a02643a5e3b15995a38717b9b0470 & realized & Biomedical Science & $\\dots$ \\\\\n",
       "\t28 & 18b8545d4501106cc4911a173a2bbfe9 & rejected & Public administration & $\\dots$ \\\\\n",
       "\t29 & 1d342fcb20dffc9643f7bcfdf6486fc2 & open & Statistics & $\\dots$ \\\\\n",
       "\t30 & 1d342fcb20dffc9643f7bcfdf6486fc2 & rejected & Statistics & $\\dots$ \\\\\n",
       "\t$\\dots$ & $\\dots$ & $\\dots$ & $\\dots$ &  \\\\\n",
       "\\end{tabular}\n"
      ],
      "text/plain": [
       "83174×9 DataFrame. Omitted printing of 7 columns\n",
       "│ Row   │ EP ID                            │ Status    │\n",
       "│       │ \u001b[90mString\u001b[39m                           │ \u001b[90mString\u001b[39m    │\n",
       "├───────┼──────────────────────────────────┼───────────┤\n",
       "│ 1     │ 000619cc73c5728e1a49948c18c423c6 │ open      │\n",
       "│ 2     │ 000619cc73c5728e1a49948c18c423c6 │ rejected  │\n",
       "│ 3     │ 00ec8f38ff587c88d1ae1f079548a04b │ complete  │\n",
       "│ 4     │ 00ec8f38ff587c88d1ae1f079548a04b │ rejected  │\n",
       "│ 5     │ 0157f9bd328f764d59e108e6b09b3207 │ open      │\n",
       "│ 6     │ 0157f9bd328f764d59e108e6b09b3207 │ rejected  │\n",
       "│ 7     │ 0157f9bd328f764d59e108e6b09b3207 │ withdrawn │\n",
       "│ 8     │ 015833bdccf8df71cd0ea61b624d78e6 │ open      │\n",
       "│ 9     │ 0318c0fa472a56707e0791803ec63a06 │ realized  │\n",
       "│ 10    │ 03b8321d9af9b1df402d0dc74bade116 │ open      │\n",
       "⋮\n",
       "│ 83164 │ 95433d4f7c6f472c5d22f485c064e0cc │ open      │\n",
       "│ 83165 │ a1cc0a60f9048125f0f2cac871d7ee8f │ open      │\n",
       "│ 83166 │ a2db317043e94698cf5d171a05fbf222 │ open      │\n",
       "│ 83167 │ ce9bb686f79a4f456fb775e1bf00a518 │ open      │\n",
       "│ 83168 │ db813cd01939781ea6388c0bb80ee08f │ matched   │\n",
       "│ 83169 │ db813cd01939781ea6388c0bb80ee08f │ open      │\n",
       "│ 83170 │ e76a07d652173e9e4117ce66dedf3ade │ open      │\n",
       "│ 83171 │ e9733bfa6df1f0dec9bc084f46167933 │ open      │\n",
       "│ 83172 │ e9cc43b796e992454aedc1fd99264e55 │ matched   │\n",
       "│ 83173 │ fee47f584884a61c8cebb0dc623aa704 │ open      │\n",
       "│ 83174 │ ff23106f2149e58aab96cd5b8d29b4ed │ open      │"
      ]
     },
     "execution_count": 106,
     "metadata": {},
     "output_type": "execute_result"
    }
   ],
   "source": [
    "background"
   ]
  },
  {
   "cell_type": "code",
   "execution_count": 112,
   "metadata": {},
   "outputs": [
    {
     "data": {
      "text/plain": [
       "\"EP ID\""
      ]
     },
     "execution_count": 112,
     "metadata": {},
     "output_type": "execute_result"
    }
   ],
   "source": [
    "names(background)[1]"
   ]
  },
  {
   "cell_type": "code",
   "execution_count": 117,
   "metadata": {},
   "outputs": [
    {
     "data": {
      "text/plain": [
       "4-element Array{String,1}:\n",
       " \"EP ID\"      \n",
       " \"Home LC\"    \n",
       " \"Home MC\"    \n",
       " \"Home Region\""
      ]
     },
     "execution_count": 117,
     "metadata": {},
     "output_type": "execute_result"
    }
   ],
   "source": [
    "intersect(names(background),names(skill))"
   ]
  },
  {
   "cell_type": "code",
   "execution_count": 4,
   "metadata": {},
   "outputs": [
    {
     "data": {
      "text/html": [
       "<table class=\"data-frame\"><thead><tr><th></th><th>EP ID</th><th>Status</th><th>Background</th></tr><tr><th></th><th>String</th><th>String?</th><th>String?</th></tr></thead><tbody><p>439,103 rows × 17 columns (omitted printing of 14 columns)</p><tr><th>1</th><td>000619cc73c5728e1a49948c18c423c6</td><td>open</td><td>Computer sciences | Mathematics | Physics | Software development and programming | Systems and Computing Engineering | Telecommunication Engineering</td></tr><tr><th>2</th><td>000619cc73c5728e1a49948c18c423c6</td><td>rejected</td><td>Computer sciences | Mathematics | Physics | Software development and programming | Systems and Computing Engineering | Telecommunication Engineering</td></tr><tr><th>3</th><td>00ec8f38ff587c88d1ae1f079548a04b</td><td>complete</td><td>Economics</td></tr><tr><th>4</th><td>00ec8f38ff587c88d1ae1f079548a04b</td><td>rejected</td><td>Economics</td></tr><tr><th>5</th><td>0157f9bd328f764d59e108e6b09b3207</td><td>open</td><td>Sports</td></tr><tr><th>6</th><td>0157f9bd328f764d59e108e6b09b3207</td><td>rejected</td><td>Sports</td></tr><tr><th>7</th><td>0157f9bd328f764d59e108e6b09b3207</td><td>withdrawn</td><td>Sports</td></tr><tr><th>8</th><td>015833bdccf8df71cd0ea61b624d78e6</td><td>open</td><td>Civil engineering | Languages | Mechanical engineering</td></tr><tr><th>9</th><td>0318c0fa472a56707e0791803ec63a06</td><td>realized</td><td>Psychology</td></tr><tr><th>10</th><td>03b8321d9af9b1df402d0dc74bade116</td><td>open</td><td>International relations | Marketing</td></tr><tr><th>11</th><td>063d78a246bce0e281f8589c323368f1</td><td>open</td><td>Business administration | Economics</td></tr><tr><th>12</th><td>063d78a246bce0e281f8589c323368f1</td><td>rejected</td><td>Business administration | Economics</td></tr><tr><th>13</th><td>063d78a246bce0e281f8589c323368f1</td><td>withdrawn</td><td>Business administration | Economics</td></tr><tr><th>14</th><td>06edfef364b18139898f24e6d29d5206</td><td>open</td><td>International relations</td></tr><tr><th>15</th><td>0cc8508d94b71ec724ec807cc195f760</td><td>open</td><td>Marketing</td></tr><tr><th>16</th><td>0cc8508d94b71ec724ec807cc195f760</td><td>rejected</td><td>Marketing</td></tr><tr><th>17</th><td>0dcae249d06154814a4e6c2b3dbef3e7</td><td>rejected</td><td>Economics</td></tr><tr><th>18</th><td>0f1b1bb57b5cfe2fad72fe7f1eca9244</td><td>open</td><td>Business administration | Civil engineering | Finance</td></tr><tr><th>19</th><td>0f1b1bb57b5cfe2fad72fe7f1eca9244</td><td>rejected</td><td>Business administration | Civil engineering | Finance</td></tr><tr><th>20</th><td>0fe7d02ec36bc2ec8183d7aeb140aa88</td><td>rejected</td><td>Marketing</td></tr><tr><th>21</th><td>0ffa28c038c9b3442831d4a768a67f71</td><td>realized</td><td>Biology | Psychology</td></tr><tr><th>22</th><td>0ffa28c038c9b3442831d4a768a67f71</td><td>withdrawn</td><td>Biology | Psychology</td></tr><tr><th>23</th><td>11a179ae0fec26a7fd19c4aa527fcd01</td><td>open</td><td>Finance</td></tr><tr><th>24</th><td>1497669c80bea3004f25107136d946ec</td><td>approved</td><td>Civil engineering</td></tr><tr><th>25</th><td>163aea0d551ba6a3387fc4be087b020e</td><td>open</td><td>Electrical engineering | Industrial engineering</td></tr><tr><th>26</th><td>163aea0d551ba6a3387fc4be087b020e</td><td>rejected</td><td>Electrical engineering | Industrial engineering</td></tr><tr><th>27</th><td>184a02643a5e3b15995a38717b9b0470</td><td>realized</td><td>Biomedical Science</td></tr><tr><th>28</th><td>18b8545d4501106cc4911a173a2bbfe9</td><td>rejected</td><td>Public administration</td></tr><tr><th>29</th><td>1d342fcb20dffc9643f7bcfdf6486fc2</td><td>open</td><td>Statistics</td></tr><tr><th>30</th><td>1d342fcb20dffc9643f7bcfdf6486fc2</td><td>rejected</td><td>Statistics</td></tr><tr><th>&vellip;</th><td>&vellip;</td><td>&vellip;</td><td>&vellip;</td></tr></tbody></table>"
      ],
      "text/latex": [
       "\\begin{tabular}{r|cccc}\n",
       "\t& EP ID & Status & Background & \\\\\n",
       "\t\\hline\n",
       "\t& String & String? & String? & \\\\\n",
       "\t\\hline\n",
       "\t1 & 000619cc73c5728e1a49948c18c423c6 & open & Computer sciences | Mathematics | Physics | Software development and programming | Systems and Computing Engineering | Telecommunication Engineering & $\\dots$ \\\\\n",
       "\t2 & 000619cc73c5728e1a49948c18c423c6 & rejected & Computer sciences | Mathematics | Physics | Software development and programming | Systems and Computing Engineering | Telecommunication Engineering & $\\dots$ \\\\\n",
       "\t3 & 00ec8f38ff587c88d1ae1f079548a04b & complete & Economics & $\\dots$ \\\\\n",
       "\t4 & 00ec8f38ff587c88d1ae1f079548a04b & rejected & Economics & $\\dots$ \\\\\n",
       "\t5 & 0157f9bd328f764d59e108e6b09b3207 & open & Sports & $\\dots$ \\\\\n",
       "\t6 & 0157f9bd328f764d59e108e6b09b3207 & rejected & Sports & $\\dots$ \\\\\n",
       "\t7 & 0157f9bd328f764d59e108e6b09b3207 & withdrawn & Sports & $\\dots$ \\\\\n",
       "\t8 & 015833bdccf8df71cd0ea61b624d78e6 & open & Civil engineering | Languages | Mechanical engineering & $\\dots$ \\\\\n",
       "\t9 & 0318c0fa472a56707e0791803ec63a06 & realized & Psychology & $\\dots$ \\\\\n",
       "\t10 & 03b8321d9af9b1df402d0dc74bade116 & open & International relations | Marketing & $\\dots$ \\\\\n",
       "\t11 & 063d78a246bce0e281f8589c323368f1 & open & Business administration | Economics & $\\dots$ \\\\\n",
       "\t12 & 063d78a246bce0e281f8589c323368f1 & rejected & Business administration | Economics & $\\dots$ \\\\\n",
       "\t13 & 063d78a246bce0e281f8589c323368f1 & withdrawn & Business administration | Economics & $\\dots$ \\\\\n",
       "\t14 & 06edfef364b18139898f24e6d29d5206 & open & International relations & $\\dots$ \\\\\n",
       "\t15 & 0cc8508d94b71ec724ec807cc195f760 & open & Marketing & $\\dots$ \\\\\n",
       "\t16 & 0cc8508d94b71ec724ec807cc195f760 & rejected & Marketing & $\\dots$ \\\\\n",
       "\t17 & 0dcae249d06154814a4e6c2b3dbef3e7 & rejected & Economics & $\\dots$ \\\\\n",
       "\t18 & 0f1b1bb57b5cfe2fad72fe7f1eca9244 & open & Business administration | Civil engineering | Finance & $\\dots$ \\\\\n",
       "\t19 & 0f1b1bb57b5cfe2fad72fe7f1eca9244 & rejected & Business administration | Civil engineering | Finance & $\\dots$ \\\\\n",
       "\t20 & 0fe7d02ec36bc2ec8183d7aeb140aa88 & rejected & Marketing & $\\dots$ \\\\\n",
       "\t21 & 0ffa28c038c9b3442831d4a768a67f71 & realized & Biology | Psychology & $\\dots$ \\\\\n",
       "\t22 & 0ffa28c038c9b3442831d4a768a67f71 & withdrawn & Biology | Psychology & $\\dots$ \\\\\n",
       "\t23 & 11a179ae0fec26a7fd19c4aa527fcd01 & open & Finance & $\\dots$ \\\\\n",
       "\t24 & 1497669c80bea3004f25107136d946ec & approved & Civil engineering & $\\dots$ \\\\\n",
       "\t25 & 163aea0d551ba6a3387fc4be087b020e & open & Electrical engineering | Industrial engineering & $\\dots$ \\\\\n",
       "\t26 & 163aea0d551ba6a3387fc4be087b020e & rejected & Electrical engineering | Industrial engineering & $\\dots$ \\\\\n",
       "\t27 & 184a02643a5e3b15995a38717b9b0470 & realized & Biomedical Science & $\\dots$ \\\\\n",
       "\t28 & 18b8545d4501106cc4911a173a2bbfe9 & rejected & Public administration & $\\dots$ \\\\\n",
       "\t29 & 1d342fcb20dffc9643f7bcfdf6486fc2 & open & Statistics & $\\dots$ \\\\\n",
       "\t30 & 1d342fcb20dffc9643f7bcfdf6486fc2 & rejected & Statistics & $\\dots$ \\\\\n",
       "\t$\\dots$ & $\\dots$ & $\\dots$ & $\\dots$ &  \\\\\n",
       "\\end{tabular}\n"
      ],
      "text/plain": [
       "439103×17 DataFrame. Omitted printing of 15 columns\n",
       "│ Row    │ EP ID                            │ Status    │\n",
       "│        │ \u001b[90mString\u001b[39m                           │ \u001b[90mString?\u001b[39m   │\n",
       "├────────┼──────────────────────────────────┼───────────┤\n",
       "│ 1      │ 000619cc73c5728e1a49948c18c423c6 │ open      │\n",
       "│ 2      │ 000619cc73c5728e1a49948c18c423c6 │ rejected  │\n",
       "│ 3      │ 00ec8f38ff587c88d1ae1f079548a04b │ complete  │\n",
       "│ 4      │ 00ec8f38ff587c88d1ae1f079548a04b │ rejected  │\n",
       "│ 5      │ 0157f9bd328f764d59e108e6b09b3207 │ open      │\n",
       "│ 6      │ 0157f9bd328f764d59e108e6b09b3207 │ rejected  │\n",
       "│ 7      │ 0157f9bd328f764d59e108e6b09b3207 │ withdrawn │\n",
       "│ 8      │ 015833bdccf8df71cd0ea61b624d78e6 │ open      │\n",
       "│ 9      │ 0318c0fa472a56707e0791803ec63a06 │ realized  │\n",
       "│ 10     │ 03b8321d9af9b1df402d0dc74bade116 │ open      │\n",
       "⋮\n",
       "│ 439093 │ 53c3660bcdf164f70a0723c93cc52ec7 │ \u001b[90mmissing\u001b[39m   │\n",
       "│ 439094 │ 5e358baec76590c8e3d08821e1c69293 │ \u001b[90mmissing\u001b[39m   │\n",
       "│ 439095 │ 3879a4e5aca1136c6a21c55c9a6b047c │ \u001b[90mmissing\u001b[39m   │\n",
       "│ 439096 │ 509d76331b29a633a9471cce9af0e9c8 │ \u001b[90mmissing\u001b[39m   │\n",
       "│ 439097 │ 14e240cbe73e8b9b43d9a0d97c202226 │ \u001b[90mmissing\u001b[39m   │\n",
       "│ 439098 │ 44a41a14a2398f6f1e464014ca9ee0ab │ \u001b[90mmissing\u001b[39m   │\n",
       "│ 439099 │ dc7b0e268a86a1dc81cb37dc08b9e663 │ \u001b[90mmissing\u001b[39m   │\n",
       "│ 439100 │ 1284dec8b91639783aff4d8c1ce7447f │ \u001b[90mmissing\u001b[39m   │\n",
       "│ 439101 │ f4155d69af3bfe03d7fbf1d33ef58085 │ \u001b[90mmissing\u001b[39m   │\n",
       "│ 439102 │ a7250abb9bd0c0bf0a302742be86e94d │ \u001b[90mmissing\u001b[39m   │\n",
       "│ 439103 │ 371130a93abbbf6c5655bbf8d551326d │ \u001b[90mmissing\u001b[39m   │"
      ]
     },
     "execution_count": 4,
     "metadata": {},
     "output_type": "execute_result"
    }
   ],
   "source": [
    "using DataFrames\n",
    "result=outerjoin(background,skill,on=intersect(names(background),names(skill)),makeunique=true)"
   ]
  },
  {
   "cell_type": "markdown",
   "metadata": {},
   "source": []
  },
  {
   "cell_type": "code",
   "execution_count": null,
   "metadata": {},
   "outputs": [],
   "source": [
    "show(result,)"
   ]
  }
 ],
 "metadata": {
  "kernelspec": {
   "display_name": "Julia 1.0.4",
   "language": "julia",
   "name": "julia-1.0"
  },
  "language_info": {
   "file_extension": ".jl",
   "mimetype": "application/julia",
   "name": "julia",
   "version": "1.0.4"
  }
 },
 "nbformat": 4,
 "nbformat_minor": 4
}
